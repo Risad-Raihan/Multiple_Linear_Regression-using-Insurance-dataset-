{
 "cells": [
  {
   "cell_type": "markdown",
   "id": "1c2f6dae-d560-42a2-a9a9-226af8fa139e",
   "metadata": {},
   "source": [
    "## Multiple Linear Regression for Beginners - using Insurance Data p-1\n"
   ]
  },
  {
   "cell_type": "markdown",
   "id": "17f78adb-1c62-47f5-8fed-c13d66403894",
   "metadata": {},
   "source": [
    "###### This is a simple Linear Regression using insurance data. this is a very basic Multiple Linear Regression for beginners who wants no extra talkative videos but only raw codes and simple explanation with it.      "
   ]
  },
  {
   "cell_type": "code",
   "execution_count": 3,
   "id": "cf52bf93-9420-4a69-b628-bb06a89b1af7",
   "metadata": {
    "scrolled": true
   },
   "outputs": [
    {
     "data": {
      "text/html": [
       "<div>\n",
       "<style scoped>\n",
       "    .dataframe tbody tr th:only-of-type {\n",
       "        vertical-align: middle;\n",
       "    }\n",
       "\n",
       "    .dataframe tbody tr th {\n",
       "        vertical-align: top;\n",
       "    }\n",
       "\n",
       "    .dataframe thead th {\n",
       "        text-align: right;\n",
       "    }\n",
       "</style>\n",
       "<table border=\"1\" class=\"dataframe\">\n",
       "  <thead>\n",
       "    <tr style=\"text-align: right;\">\n",
       "      <th></th>\n",
       "      <th>age</th>\n",
       "      <th>sex</th>\n",
       "      <th>bmi</th>\n",
       "      <th>children</th>\n",
       "      <th>smoker</th>\n",
       "      <th>region</th>\n",
       "      <th>charges</th>\n",
       "    </tr>\n",
       "  </thead>\n",
       "  <tbody>\n",
       "    <tr>\n",
       "      <th>0</th>\n",
       "      <td>19</td>\n",
       "      <td>female</td>\n",
       "      <td>27.9</td>\n",
       "      <td>0</td>\n",
       "      <td>yes</td>\n",
       "      <td>southwest</td>\n",
       "      <td>16884.92</td>\n",
       "    </tr>\n",
       "    <tr>\n",
       "      <th>1</th>\n",
       "      <td>18</td>\n",
       "      <td>male</td>\n",
       "      <td>33.8</td>\n",
       "      <td>1</td>\n",
       "      <td>no</td>\n",
       "      <td>southeast</td>\n",
       "      <td>1725.55</td>\n",
       "    </tr>\n",
       "    <tr>\n",
       "      <th>2</th>\n",
       "      <td>28</td>\n",
       "      <td>male</td>\n",
       "      <td>33.0</td>\n",
       "      <td>3</td>\n",
       "      <td>no</td>\n",
       "      <td>southeast</td>\n",
       "      <td>4449.46</td>\n",
       "    </tr>\n",
       "    <tr>\n",
       "      <th>3</th>\n",
       "      <td>33</td>\n",
       "      <td>male</td>\n",
       "      <td>22.7</td>\n",
       "      <td>0</td>\n",
       "      <td>no</td>\n",
       "      <td>northwest</td>\n",
       "      <td>21984.47</td>\n",
       "    </tr>\n",
       "    <tr>\n",
       "      <th>4</th>\n",
       "      <td>32</td>\n",
       "      <td>male</td>\n",
       "      <td>28.9</td>\n",
       "      <td>0</td>\n",
       "      <td>no</td>\n",
       "      <td>northwest</td>\n",
       "      <td>3866.86</td>\n",
       "    </tr>\n",
       "    <tr>\n",
       "      <th>...</th>\n",
       "      <td>...</td>\n",
       "      <td>...</td>\n",
       "      <td>...</td>\n",
       "      <td>...</td>\n",
       "      <td>...</td>\n",
       "      <td>...</td>\n",
       "      <td>...</td>\n",
       "    </tr>\n",
       "    <tr>\n",
       "      <th>1333</th>\n",
       "      <td>50</td>\n",
       "      <td>male</td>\n",
       "      <td>31.0</td>\n",
       "      <td>3</td>\n",
       "      <td>no</td>\n",
       "      <td>northwest</td>\n",
       "      <td>10600.55</td>\n",
       "    </tr>\n",
       "    <tr>\n",
       "      <th>1334</th>\n",
       "      <td>18</td>\n",
       "      <td>female</td>\n",
       "      <td>31.9</td>\n",
       "      <td>0</td>\n",
       "      <td>no</td>\n",
       "      <td>northeast</td>\n",
       "      <td>2205.98</td>\n",
       "    </tr>\n",
       "    <tr>\n",
       "      <th>1335</th>\n",
       "      <td>18</td>\n",
       "      <td>female</td>\n",
       "      <td>36.9</td>\n",
       "      <td>0</td>\n",
       "      <td>no</td>\n",
       "      <td>southeast</td>\n",
       "      <td>1629.83</td>\n",
       "    </tr>\n",
       "    <tr>\n",
       "      <th>1336</th>\n",
       "      <td>21</td>\n",
       "      <td>female</td>\n",
       "      <td>25.8</td>\n",
       "      <td>0</td>\n",
       "      <td>no</td>\n",
       "      <td>southwest</td>\n",
       "      <td>2007.95</td>\n",
       "    </tr>\n",
       "    <tr>\n",
       "      <th>1337</th>\n",
       "      <td>61</td>\n",
       "      <td>female</td>\n",
       "      <td>29.1</td>\n",
       "      <td>0</td>\n",
       "      <td>yes</td>\n",
       "      <td>northwest</td>\n",
       "      <td>29141.36</td>\n",
       "    </tr>\n",
       "  </tbody>\n",
       "</table>\n",
       "<p>1338 rows × 7 columns</p>\n",
       "</div>"
      ],
      "text/plain": [
       "      age     sex   bmi  children smoker     region   charges\n",
       "0      19  female  27.9         0    yes  southwest  16884.92\n",
       "1      18    male  33.8         1     no  southeast   1725.55\n",
       "2      28    male  33.0         3     no  southeast   4449.46\n",
       "3      33    male  22.7         0     no  northwest  21984.47\n",
       "4      32    male  28.9         0     no  northwest   3866.86\n",
       "...   ...     ...   ...       ...    ...        ...       ...\n",
       "1333   50    male  31.0         3     no  northwest  10600.55\n",
       "1334   18  female  31.9         0     no  northeast   2205.98\n",
       "1335   18  female  36.9         0     no  southeast   1629.83\n",
       "1336   21  female  25.8         0     no  southwest   2007.95\n",
       "1337   61  female  29.1         0    yes  northwest  29141.36\n",
       "\n",
       "[1338 rows x 7 columns]"
      ]
     },
     "execution_count": 3,
     "metadata": {},
     "output_type": "execute_result"
    }
   ],
   "source": [
    "import pandas as pd\n",
    "df = pd.read_csv('insurance.csv')\n",
    "df"
   ]
  },
  {
   "cell_type": "code",
   "execution_count": 4,
   "id": "b14a894d-d02b-4788-9d0d-def3da0b361d",
   "metadata": {
    "scrolled": true
   },
   "outputs": [
    {
     "data": {
      "text/html": [
       "<div>\n",
       "<style scoped>\n",
       "    .dataframe tbody tr th:only-of-type {\n",
       "        vertical-align: middle;\n",
       "    }\n",
       "\n",
       "    .dataframe tbody tr th {\n",
       "        vertical-align: top;\n",
       "    }\n",
       "\n",
       "    .dataframe thead th {\n",
       "        text-align: right;\n",
       "    }\n",
       "</style>\n",
       "<table border=\"1\" class=\"dataframe\">\n",
       "  <thead>\n",
       "    <tr style=\"text-align: right;\">\n",
       "      <th></th>\n",
       "      <th>age</th>\n",
       "      <th>sex</th>\n",
       "      <th>bmi</th>\n",
       "      <th>children</th>\n",
       "      <th>smoker</th>\n",
       "      <th>region</th>\n",
       "      <th>charges</th>\n",
       "    </tr>\n",
       "  </thead>\n",
       "  <tbody>\n",
       "    <tr>\n",
       "      <th>0</th>\n",
       "      <td>19</td>\n",
       "      <td>0</td>\n",
       "      <td>27.9</td>\n",
       "      <td>0</td>\n",
       "      <td>yes</td>\n",
       "      <td>southwest</td>\n",
       "      <td>16884.92</td>\n",
       "    </tr>\n",
       "    <tr>\n",
       "      <th>1</th>\n",
       "      <td>18</td>\n",
       "      <td>1</td>\n",
       "      <td>33.8</td>\n",
       "      <td>1</td>\n",
       "      <td>no</td>\n",
       "      <td>southeast</td>\n",
       "      <td>1725.55</td>\n",
       "    </tr>\n",
       "    <tr>\n",
       "      <th>2</th>\n",
       "      <td>28</td>\n",
       "      <td>1</td>\n",
       "      <td>33.0</td>\n",
       "      <td>3</td>\n",
       "      <td>no</td>\n",
       "      <td>southeast</td>\n",
       "      <td>4449.46</td>\n",
       "    </tr>\n",
       "    <tr>\n",
       "      <th>3</th>\n",
       "      <td>33</td>\n",
       "      <td>1</td>\n",
       "      <td>22.7</td>\n",
       "      <td>0</td>\n",
       "      <td>no</td>\n",
       "      <td>northwest</td>\n",
       "      <td>21984.47</td>\n",
       "    </tr>\n",
       "    <tr>\n",
       "      <th>4</th>\n",
       "      <td>32</td>\n",
       "      <td>1</td>\n",
       "      <td>28.9</td>\n",
       "      <td>0</td>\n",
       "      <td>no</td>\n",
       "      <td>northwest</td>\n",
       "      <td>3866.86</td>\n",
       "    </tr>\n",
       "    <tr>\n",
       "      <th>...</th>\n",
       "      <td>...</td>\n",
       "      <td>...</td>\n",
       "      <td>...</td>\n",
       "      <td>...</td>\n",
       "      <td>...</td>\n",
       "      <td>...</td>\n",
       "      <td>...</td>\n",
       "    </tr>\n",
       "    <tr>\n",
       "      <th>1333</th>\n",
       "      <td>50</td>\n",
       "      <td>1</td>\n",
       "      <td>31.0</td>\n",
       "      <td>3</td>\n",
       "      <td>no</td>\n",
       "      <td>northwest</td>\n",
       "      <td>10600.55</td>\n",
       "    </tr>\n",
       "    <tr>\n",
       "      <th>1334</th>\n",
       "      <td>18</td>\n",
       "      <td>0</td>\n",
       "      <td>31.9</td>\n",
       "      <td>0</td>\n",
       "      <td>no</td>\n",
       "      <td>northeast</td>\n",
       "      <td>2205.98</td>\n",
       "    </tr>\n",
       "    <tr>\n",
       "      <th>1335</th>\n",
       "      <td>18</td>\n",
       "      <td>0</td>\n",
       "      <td>36.9</td>\n",
       "      <td>0</td>\n",
       "      <td>no</td>\n",
       "      <td>southeast</td>\n",
       "      <td>1629.83</td>\n",
       "    </tr>\n",
       "    <tr>\n",
       "      <th>1336</th>\n",
       "      <td>21</td>\n",
       "      <td>0</td>\n",
       "      <td>25.8</td>\n",
       "      <td>0</td>\n",
       "      <td>no</td>\n",
       "      <td>southwest</td>\n",
       "      <td>2007.95</td>\n",
       "    </tr>\n",
       "    <tr>\n",
       "      <th>1337</th>\n",
       "      <td>61</td>\n",
       "      <td>0</td>\n",
       "      <td>29.1</td>\n",
       "      <td>0</td>\n",
       "      <td>yes</td>\n",
       "      <td>northwest</td>\n",
       "      <td>29141.36</td>\n",
       "    </tr>\n",
       "  </tbody>\n",
       "</table>\n",
       "<p>1338 rows × 7 columns</p>\n",
       "</div>"
      ],
      "text/plain": [
       "      age  sex   bmi  children smoker     region   charges\n",
       "0      19    0  27.9         0    yes  southwest  16884.92\n",
       "1      18    1  33.8         1     no  southeast   1725.55\n",
       "2      28    1  33.0         3     no  southeast   4449.46\n",
       "3      33    1  22.7         0     no  northwest  21984.47\n",
       "4      32    1  28.9         0     no  northwest   3866.86\n",
       "...   ...  ...   ...       ...    ...        ...       ...\n",
       "1333   50    1  31.0         3     no  northwest  10600.55\n",
       "1334   18    0  31.9         0     no  northeast   2205.98\n",
       "1335   18    0  36.9         0     no  southeast   1629.83\n",
       "1336   21    0  25.8         0     no  southwest   2007.95\n",
       "1337   61    0  29.1         0    yes  northwest  29141.36\n",
       "\n",
       "[1338 rows x 7 columns]"
      ]
     },
     "execution_count": 4,
     "metadata": {},
     "output_type": "execute_result"
    }
   ],
   "source": [
    "df['sex'] = df['sex'].astype('category')\n",
    "df['sex'] = df['sex'].cat.codes\n",
    "df"
   ]
  },
  {
   "cell_type": "markdown",
   "id": "54af5bbf-9d82-4f2e-ae54-ea5210c25459",
   "metadata": {},
   "source": [
    "**Note: convert non-numerical values into numerical, here it was sex**"
   ]
  },
  {
   "cell_type": "code",
   "execution_count": 5,
   "id": "8f34c624-2738-40b7-ad69-568a7f85d5a6",
   "metadata": {},
   "outputs": [],
   "source": [
    "df['smoker'] = df['smoker'].astype('category')\n",
    "df['smoker'] = df['smoker'].cat.codes\n",
    "\n",
    "df['region'] = df['region'].astype('category')\n",
    "df['region'] = df['region'].cat.codes"
   ]
  },
  {
   "cell_type": "code",
   "execution_count": null,
   "id": "d483625b-32f9-4f80-95b0-ed6a9b69b983",
   "metadata": {},
   "outputs": [],
   "source": []
  },
  {
   "cell_type": "code",
   "execution_count": 6,
   "id": "782d93cf-933e-474e-9159-0bd005e98647",
   "metadata": {},
   "outputs": [
    {
     "data": {
      "text/html": [
       "<div>\n",
       "<style scoped>\n",
       "    .dataframe tbody tr th:only-of-type {\n",
       "        vertical-align: middle;\n",
       "    }\n",
       "\n",
       "    .dataframe tbody tr th {\n",
       "        vertical-align: top;\n",
       "    }\n",
       "\n",
       "    .dataframe thead th {\n",
       "        text-align: right;\n",
       "    }\n",
       "</style>\n",
       "<table border=\"1\" class=\"dataframe\">\n",
       "  <thead>\n",
       "    <tr style=\"text-align: right;\">\n",
       "      <th></th>\n",
       "      <th>age</th>\n",
       "      <th>sex</th>\n",
       "      <th>bmi</th>\n",
       "      <th>children</th>\n",
       "      <th>smoker</th>\n",
       "      <th>region</th>\n",
       "      <th>charges</th>\n",
       "    </tr>\n",
       "  </thead>\n",
       "  <tbody>\n",
       "    <tr>\n",
       "      <th>0</th>\n",
       "      <td>19</td>\n",
       "      <td>0</td>\n",
       "      <td>27.9</td>\n",
       "      <td>0</td>\n",
       "      <td>1</td>\n",
       "      <td>3</td>\n",
       "      <td>16884.92</td>\n",
       "    </tr>\n",
       "    <tr>\n",
       "      <th>1</th>\n",
       "      <td>18</td>\n",
       "      <td>1</td>\n",
       "      <td>33.8</td>\n",
       "      <td>1</td>\n",
       "      <td>0</td>\n",
       "      <td>2</td>\n",
       "      <td>1725.55</td>\n",
       "    </tr>\n",
       "    <tr>\n",
       "      <th>2</th>\n",
       "      <td>28</td>\n",
       "      <td>1</td>\n",
       "      <td>33.0</td>\n",
       "      <td>3</td>\n",
       "      <td>0</td>\n",
       "      <td>2</td>\n",
       "      <td>4449.46</td>\n",
       "    </tr>\n",
       "    <tr>\n",
       "      <th>3</th>\n",
       "      <td>33</td>\n",
       "      <td>1</td>\n",
       "      <td>22.7</td>\n",
       "      <td>0</td>\n",
       "      <td>0</td>\n",
       "      <td>1</td>\n",
       "      <td>21984.47</td>\n",
       "    </tr>\n",
       "    <tr>\n",
       "      <th>4</th>\n",
       "      <td>32</td>\n",
       "      <td>1</td>\n",
       "      <td>28.9</td>\n",
       "      <td>0</td>\n",
       "      <td>0</td>\n",
       "      <td>1</td>\n",
       "      <td>3866.86</td>\n",
       "    </tr>\n",
       "    <tr>\n",
       "      <th>...</th>\n",
       "      <td>...</td>\n",
       "      <td>...</td>\n",
       "      <td>...</td>\n",
       "      <td>...</td>\n",
       "      <td>...</td>\n",
       "      <td>...</td>\n",
       "      <td>...</td>\n",
       "    </tr>\n",
       "    <tr>\n",
       "      <th>1333</th>\n",
       "      <td>50</td>\n",
       "      <td>1</td>\n",
       "      <td>31.0</td>\n",
       "      <td>3</td>\n",
       "      <td>0</td>\n",
       "      <td>1</td>\n",
       "      <td>10600.55</td>\n",
       "    </tr>\n",
       "    <tr>\n",
       "      <th>1334</th>\n",
       "      <td>18</td>\n",
       "      <td>0</td>\n",
       "      <td>31.9</td>\n",
       "      <td>0</td>\n",
       "      <td>0</td>\n",
       "      <td>0</td>\n",
       "      <td>2205.98</td>\n",
       "    </tr>\n",
       "    <tr>\n",
       "      <th>1335</th>\n",
       "      <td>18</td>\n",
       "      <td>0</td>\n",
       "      <td>36.9</td>\n",
       "      <td>0</td>\n",
       "      <td>0</td>\n",
       "      <td>2</td>\n",
       "      <td>1629.83</td>\n",
       "    </tr>\n",
       "    <tr>\n",
       "      <th>1336</th>\n",
       "      <td>21</td>\n",
       "      <td>0</td>\n",
       "      <td>25.8</td>\n",
       "      <td>0</td>\n",
       "      <td>0</td>\n",
       "      <td>3</td>\n",
       "      <td>2007.95</td>\n",
       "    </tr>\n",
       "    <tr>\n",
       "      <th>1337</th>\n",
       "      <td>61</td>\n",
       "      <td>0</td>\n",
       "      <td>29.1</td>\n",
       "      <td>0</td>\n",
       "      <td>1</td>\n",
       "      <td>1</td>\n",
       "      <td>29141.36</td>\n",
       "    </tr>\n",
       "  </tbody>\n",
       "</table>\n",
       "<p>1338 rows × 7 columns</p>\n",
       "</div>"
      ],
      "text/plain": [
       "      age  sex   bmi  children  smoker  region   charges\n",
       "0      19    0  27.9         0       1       3  16884.92\n",
       "1      18    1  33.8         1       0       2   1725.55\n",
       "2      28    1  33.0         3       0       2   4449.46\n",
       "3      33    1  22.7         0       0       1  21984.47\n",
       "4      32    1  28.9         0       0       1   3866.86\n",
       "...   ...  ...   ...       ...     ...     ...       ...\n",
       "1333   50    1  31.0         3       0       1  10600.55\n",
       "1334   18    0  31.9         0       0       0   2205.98\n",
       "1335   18    0  36.9         0       0       2   1629.83\n",
       "1336   21    0  25.8         0       0       3   2007.95\n",
       "1337   61    0  29.1         0       1       1  29141.36\n",
       "\n",
       "[1338 rows x 7 columns]"
      ]
     },
     "execution_count": 6,
     "metadata": {},
     "output_type": "execute_result"
    }
   ],
   "source": [
    "df"
   ]
  },
  {
   "cell_type": "code",
   "execution_count": 7,
   "id": "9390da01-c601-4963-9096-437bc5fa61b8",
   "metadata": {},
   "outputs": [
    {
     "data": {
      "text/plain": [
       "age         0\n",
       "sex         0\n",
       "bmi         0\n",
       "children    0\n",
       "smoker      0\n",
       "region      0\n",
       "charges     0\n",
       "dtype: int64"
      ]
     },
     "execution_count": 7,
     "metadata": {},
     "output_type": "execute_result"
    }
   ],
   "source": [
    "df.isnull().sum()"
   ]
  },
  {
   "cell_type": "code",
   "execution_count": 8,
   "id": "e126bc08-3c40-48d0-a15b-d8d43a35649f",
   "metadata": {},
   "outputs": [],
   "source": [
    "x = df.drop(columns = 'charges')"
   ]
  },
  {
   "cell_type": "code",
   "execution_count": 9,
   "id": "d8624e4f-ed11-43f9-b983-7ba18d031e72",
   "metadata": {},
   "outputs": [
    {
     "data": {
      "text/html": [
       "<div>\n",
       "<style scoped>\n",
       "    .dataframe tbody tr th:only-of-type {\n",
       "        vertical-align: middle;\n",
       "    }\n",
       "\n",
       "    .dataframe tbody tr th {\n",
       "        vertical-align: top;\n",
       "    }\n",
       "\n",
       "    .dataframe thead th {\n",
       "        text-align: right;\n",
       "    }\n",
       "</style>\n",
       "<table border=\"1\" class=\"dataframe\">\n",
       "  <thead>\n",
       "    <tr style=\"text-align: right;\">\n",
       "      <th></th>\n",
       "      <th>age</th>\n",
       "      <th>sex</th>\n",
       "      <th>bmi</th>\n",
       "      <th>children</th>\n",
       "      <th>smoker</th>\n",
       "      <th>region</th>\n",
       "    </tr>\n",
       "  </thead>\n",
       "  <tbody>\n",
       "    <tr>\n",
       "      <th>0</th>\n",
       "      <td>19</td>\n",
       "      <td>0</td>\n",
       "      <td>27.9</td>\n",
       "      <td>0</td>\n",
       "      <td>1</td>\n",
       "      <td>3</td>\n",
       "    </tr>\n",
       "    <tr>\n",
       "      <th>1</th>\n",
       "      <td>18</td>\n",
       "      <td>1</td>\n",
       "      <td>33.8</td>\n",
       "      <td>1</td>\n",
       "      <td>0</td>\n",
       "      <td>2</td>\n",
       "    </tr>\n",
       "    <tr>\n",
       "      <th>2</th>\n",
       "      <td>28</td>\n",
       "      <td>1</td>\n",
       "      <td>33.0</td>\n",
       "      <td>3</td>\n",
       "      <td>0</td>\n",
       "      <td>2</td>\n",
       "    </tr>\n",
       "    <tr>\n",
       "      <th>3</th>\n",
       "      <td>33</td>\n",
       "      <td>1</td>\n",
       "      <td>22.7</td>\n",
       "      <td>0</td>\n",
       "      <td>0</td>\n",
       "      <td>1</td>\n",
       "    </tr>\n",
       "    <tr>\n",
       "      <th>4</th>\n",
       "      <td>32</td>\n",
       "      <td>1</td>\n",
       "      <td>28.9</td>\n",
       "      <td>0</td>\n",
       "      <td>0</td>\n",
       "      <td>1</td>\n",
       "    </tr>\n",
       "    <tr>\n",
       "      <th>...</th>\n",
       "      <td>...</td>\n",
       "      <td>...</td>\n",
       "      <td>...</td>\n",
       "      <td>...</td>\n",
       "      <td>...</td>\n",
       "      <td>...</td>\n",
       "    </tr>\n",
       "    <tr>\n",
       "      <th>1333</th>\n",
       "      <td>50</td>\n",
       "      <td>1</td>\n",
       "      <td>31.0</td>\n",
       "      <td>3</td>\n",
       "      <td>0</td>\n",
       "      <td>1</td>\n",
       "    </tr>\n",
       "    <tr>\n",
       "      <th>1334</th>\n",
       "      <td>18</td>\n",
       "      <td>0</td>\n",
       "      <td>31.9</td>\n",
       "      <td>0</td>\n",
       "      <td>0</td>\n",
       "      <td>0</td>\n",
       "    </tr>\n",
       "    <tr>\n",
       "      <th>1335</th>\n",
       "      <td>18</td>\n",
       "      <td>0</td>\n",
       "      <td>36.9</td>\n",
       "      <td>0</td>\n",
       "      <td>0</td>\n",
       "      <td>2</td>\n",
       "    </tr>\n",
       "    <tr>\n",
       "      <th>1336</th>\n",
       "      <td>21</td>\n",
       "      <td>0</td>\n",
       "      <td>25.8</td>\n",
       "      <td>0</td>\n",
       "      <td>0</td>\n",
       "      <td>3</td>\n",
       "    </tr>\n",
       "    <tr>\n",
       "      <th>1337</th>\n",
       "      <td>61</td>\n",
       "      <td>0</td>\n",
       "      <td>29.1</td>\n",
       "      <td>0</td>\n",
       "      <td>1</td>\n",
       "      <td>1</td>\n",
       "    </tr>\n",
       "  </tbody>\n",
       "</table>\n",
       "<p>1338 rows × 6 columns</p>\n",
       "</div>"
      ],
      "text/plain": [
       "      age  sex   bmi  children  smoker  region\n",
       "0      19    0  27.9         0       1       3\n",
       "1      18    1  33.8         1       0       2\n",
       "2      28    1  33.0         3       0       2\n",
       "3      33    1  22.7         0       0       1\n",
       "4      32    1  28.9         0       0       1\n",
       "...   ...  ...   ...       ...     ...     ...\n",
       "1333   50    1  31.0         3       0       1\n",
       "1334   18    0  31.9         0       0       0\n",
       "1335   18    0  36.9         0       0       2\n",
       "1336   21    0  25.8         0       0       3\n",
       "1337   61    0  29.1         0       1       1\n",
       "\n",
       "[1338 rows x 6 columns]"
      ]
     },
     "execution_count": 9,
     "metadata": {},
     "output_type": "execute_result"
    }
   ],
   "source": [
    "x"
   ]
  },
  {
   "cell_type": "code",
   "execution_count": 10,
   "id": "6a4eba17-567d-480d-aa55-ea3d4964e392",
   "metadata": {},
   "outputs": [],
   "source": [
    "y = df['charges']"
   ]
  },
  {
   "cell_type": "markdown",
   "id": "1a94709a-59c9-49f8-8938-cde11e49ae76",
   "metadata": {},
   "source": [
    "###### Test_Train split"
   ]
  },
  {
   "cell_type": "code",
   "execution_count": 11,
   "id": "738313d6-daf3-4c60-9397-cf7209be1fe8",
   "metadata": {},
   "outputs": [],
   "source": [
    "from sklearn.model_selection import train_test_split\n",
    "x_train, x_test, y_train, y_test = train_test_split(x,y, test_size = 0.4, random_state = 0)"
   ]
  },
  {
   "cell_type": "markdown",
   "id": "13f7e115-2231-49da-a919-cb8e7d5d121f",
   "metadata": {},
   "source": [
    "###### Importing Linear Regression "
   ]
  },
  {
   "cell_type": "code",
   "execution_count": 12,
   "id": "ff6f34d4-4812-410c-8a4e-a70ad8cfb38d",
   "metadata": {},
   "outputs": [],
   "source": [
    "from sklearn.linear_model import LinearRegression\n",
    "lr = LinearRegression()"
   ]
  },
  {
   "cell_type": "code",
   "execution_count": 13,
   "id": "07a444b2-eaed-4871-a918-c049854eb38c",
   "metadata": {},
   "outputs": [
    {
     "data": {
      "text/html": [
       "<style>#sk-container-id-1 {color: black;background-color: white;}#sk-container-id-1 pre{padding: 0;}#sk-container-id-1 div.sk-toggleable {background-color: white;}#sk-container-id-1 label.sk-toggleable__label {cursor: pointer;display: block;width: 100%;margin-bottom: 0;padding: 0.3em;box-sizing: border-box;text-align: center;}#sk-container-id-1 label.sk-toggleable__label-arrow:before {content: \"▸\";float: left;margin-right: 0.25em;color: #696969;}#sk-container-id-1 label.sk-toggleable__label-arrow:hover:before {color: black;}#sk-container-id-1 div.sk-estimator:hover label.sk-toggleable__label-arrow:before {color: black;}#sk-container-id-1 div.sk-toggleable__content {max-height: 0;max-width: 0;overflow: hidden;text-align: left;background-color: #f0f8ff;}#sk-container-id-1 div.sk-toggleable__content pre {margin: 0.2em;color: black;border-radius: 0.25em;background-color: #f0f8ff;}#sk-container-id-1 input.sk-toggleable__control:checked~div.sk-toggleable__content {max-height: 200px;max-width: 100%;overflow: auto;}#sk-container-id-1 input.sk-toggleable__control:checked~label.sk-toggleable__label-arrow:before {content: \"▾\";}#sk-container-id-1 div.sk-estimator input.sk-toggleable__control:checked~label.sk-toggleable__label {background-color: #d4ebff;}#sk-container-id-1 div.sk-label input.sk-toggleable__control:checked~label.sk-toggleable__label {background-color: #d4ebff;}#sk-container-id-1 input.sk-hidden--visually {border: 0;clip: rect(1px 1px 1px 1px);clip: rect(1px, 1px, 1px, 1px);height: 1px;margin: -1px;overflow: hidden;padding: 0;position: absolute;width: 1px;}#sk-container-id-1 div.sk-estimator {font-family: monospace;background-color: #f0f8ff;border: 1px dotted black;border-radius: 0.25em;box-sizing: border-box;margin-bottom: 0.5em;}#sk-container-id-1 div.sk-estimator:hover {background-color: #d4ebff;}#sk-container-id-1 div.sk-parallel-item::after {content: \"\";width: 100%;border-bottom: 1px solid gray;flex-grow: 1;}#sk-container-id-1 div.sk-label:hover label.sk-toggleable__label {background-color: #d4ebff;}#sk-container-id-1 div.sk-serial::before {content: \"\";position: absolute;border-left: 1px solid gray;box-sizing: border-box;top: 0;bottom: 0;left: 50%;z-index: 0;}#sk-container-id-1 div.sk-serial {display: flex;flex-direction: column;align-items: center;background-color: white;padding-right: 0.2em;padding-left: 0.2em;position: relative;}#sk-container-id-1 div.sk-item {position: relative;z-index: 1;}#sk-container-id-1 div.sk-parallel {display: flex;align-items: stretch;justify-content: center;background-color: white;position: relative;}#sk-container-id-1 div.sk-item::before, #sk-container-id-1 div.sk-parallel-item::before {content: \"\";position: absolute;border-left: 1px solid gray;box-sizing: border-box;top: 0;bottom: 0;left: 50%;z-index: -1;}#sk-container-id-1 div.sk-parallel-item {display: flex;flex-direction: column;z-index: 1;position: relative;background-color: white;}#sk-container-id-1 div.sk-parallel-item:first-child::after {align-self: flex-end;width: 50%;}#sk-container-id-1 div.sk-parallel-item:last-child::after {align-self: flex-start;width: 50%;}#sk-container-id-1 div.sk-parallel-item:only-child::after {width: 0;}#sk-container-id-1 div.sk-dashed-wrapped {border: 1px dashed gray;margin: 0 0.4em 0.5em 0.4em;box-sizing: border-box;padding-bottom: 0.4em;background-color: white;}#sk-container-id-1 div.sk-label label {font-family: monospace;font-weight: bold;display: inline-block;line-height: 1.2em;}#sk-container-id-1 div.sk-label-container {text-align: center;}#sk-container-id-1 div.sk-container {/* jupyter's `normalize.less` sets `[hidden] { display: none; }` but bootstrap.min.css set `[hidden] { display: none !important; }` so we also need the `!important` here to be able to override the default hidden behavior on the sphinx rendered scikit-learn.org. See: https://github.com/scikit-learn/scikit-learn/issues/21755 */display: inline-block !important;position: relative;}#sk-container-id-1 div.sk-text-repr-fallback {display: none;}</style><div id=\"sk-container-id-1\" class=\"sk-top-container\"><div class=\"sk-text-repr-fallback\"><pre>LinearRegression()</pre><b>In a Jupyter environment, please rerun this cell to show the HTML representation or trust the notebook. <br />On GitHub, the HTML representation is unable to render, please try loading this page with nbviewer.org.</b></div><div class=\"sk-container\" hidden><div class=\"sk-item\"><div class=\"sk-estimator sk-toggleable\"><input class=\"sk-toggleable__control sk-hidden--visually\" id=\"sk-estimator-id-1\" type=\"checkbox\" checked><label for=\"sk-estimator-id-1\" class=\"sk-toggleable__label sk-toggleable__label-arrow\">LinearRegression</label><div class=\"sk-toggleable__content\"><pre>LinearRegression()</pre></div></div></div></div></div>"
      ],
      "text/plain": [
       "LinearRegression()"
      ]
     },
     "execution_count": 13,
     "metadata": {},
     "output_type": "execute_result"
    }
   ],
   "source": [
    "lr.fit(x_train, y_train)"
   ]
  },
  {
   "cell_type": "markdown",
   "id": "1277b2be-241b-4ce2-9ef6-fc34d636b749",
   "metadata": {},
   "source": [
    "**Finding C**"
   ]
  },
  {
   "cell_type": "code",
   "execution_count": 14,
   "id": "19f52e41-5183-4f2f-a19e-430e5a720d12",
   "metadata": {},
   "outputs": [
    {
     "data": {
      "text/plain": [
       "-12002.242992927708"
      ]
     },
     "execution_count": 14,
     "metadata": {},
     "output_type": "execute_result"
    }
   ],
   "source": [
    "c = lr.intercept_\n",
    "c"
   ]
  },
  {
   "cell_type": "markdown",
   "id": "905ee485-4e2d-41a1-bc86-1d8d9f48d0e4",
   "metadata": {},
   "source": [
    "**Finding M**"
   ]
  },
  {
   "cell_type": "code",
   "execution_count": 15,
   "id": "42a0ee8f-ef68-4e54-b3a1-b27b8a91d4e4",
   "metadata": {},
   "outputs": [
    {
     "data": {
      "text/plain": [
       "array([  259.35367765,    47.10640526,   333.54822137,   533.11955242,\n",
       "       22934.16657467,  -355.33995281])"
      ]
     },
     "execution_count": 15,
     "metadata": {},
     "output_type": "execute_result"
    }
   ],
   "source": [
    "m = lr.coef_\n",
    "m\n"
   ]
  },
  {
   "cell_type": "markdown",
   "id": "9cd49b24-af4a-4d00-b6df-7821a75cb970",
   "metadata": {},
   "source": [
    "*Note: 5 m becuase we are having multiple Ms here*\n"
   ]
  },
  {
   "cell_type": "code",
   "execution_count": 16,
   "id": "30d62269-09c9-4f0e-9938-10eaccd951bf",
   "metadata": {},
   "outputs": [],
   "source": [
    "y_pred_train  = lr.predict(x_train)"
   ]
  },
  {
   "cell_type": "code",
   "execution_count": 17,
   "id": "4cbd04aa-b0b9-4c4b-b309-a82b255ded40",
   "metadata": {},
   "outputs": [
    {
     "data": {
      "text/plain": [
       "array([ 5.64467812e+03, -1.26944962e+03,  1.48945292e+04,  4.02107808e+03,\n",
       "        1.03769049e+04,  1.32096260e+04,  1.14417235e+04,  9.28300914e+03,\n",
       "        1.36948816e+04,  1.03818356e+03,  1.14566848e+04,  9.34936340e+03,\n",
       "        8.25990978e+03,  1.51430990e+04,  1.25987974e+04,  2.95764930e+04,\n",
       "        1.74284332e+04,  1.04751935e+04,  9.59583892e+03,  1.29542342e+04,\n",
       "        5.79923469e+03,  1.59660585e+04,  7.41050331e+03,  5.58469356e+03,\n",
       "        3.10336719e+04,  1.35708284e+04,  1.28928319e+04,  1.23853296e+04,\n",
       "        1.27708199e+04,  5.33853386e+03,  2.69337112e+03,  4.10008575e+03,\n",
       "        5.97975803e+03,  4.18193524e+02,  8.42918613e+03,  7.79425117e+03,\n",
       "        5.95159660e+03,  1.48594404e+04,  3.95163321e+03,  7.62351275e+03,\n",
       "        4.92991151e+03,  6.59842177e+02,  6.41107070e+03,  6.18340139e+03,\n",
       "        3.10099766e+03,  2.98899223e+04,  1.01967035e+04,  1.20992434e+04,\n",
       "        3.62265933e+04,  5.39743662e+03,  1.40473616e+04,  8.61180810e+02,\n",
       "        7.15080511e+03,  2.53197370e+04,  1.05377172e+04,  5.78074430e+03,\n",
       "        1.57927125e+04,  8.39563996e+03,  3.34851746e+04,  1.30599194e+04,\n",
       "        9.14561703e+03,  1.15717252e+04,  2.90664004e+04,  4.73034018e+03,\n",
       "        8.78717532e+03,  1.03292262e+04,  2.32879298e+03,  3.32126440e+04,\n",
       "        2.55107501e+04,  1.26057271e+04,  7.27036981e+03,  6.81185277e+03,\n",
       "        3.32493025e+04,  3.41700017e+04,  1.08909764e+04,  2.77798715e+04,\n",
       "        3.28307480e+04,  4.45424705e+03,  3.30038035e+04,  9.06791893e+03,\n",
       "        3.30383765e+04,  2.56832333e+04,  1.34176982e+04,  1.24678827e+04,\n",
       "        5.74000143e+03,  1.55667136e+04,  1.06684013e+04,  4.54043989e+03,\n",
       "        1.47255713e+04,  1.69270925e+04,  2.77263431e+03,  7.43373486e+03,\n",
       "        3.38152170e+04, -1.94999885e+03,  4.85220489e+03,  1.15298672e+04,\n",
       "        1.50393032e+04,  9.69896323e+03, -2.59131560e+02,  3.72168536e+04,\n",
       "        3.70612796e+03,  1.59701367e+04,  4.43245532e+03,  2.04169672e+03,\n",
       "        1.06392068e+04,  1.12256064e+04,  1.58802125e+04,  8.61489435e+03,\n",
       "        3.80633056e+04,  1.04290465e+04,  1.20610421e+04,  4.41803696e+03,\n",
       "        1.25320793e+04,  2.61385409e+04,  9.73566982e+03,  5.90865908e+03,\n",
       "        1.00198836e+04,  2.50045800e+04,  1.04975320e+04,  1.11876158e+04,\n",
       "        9.14032678e+03,  1.54559683e+04,  2.95373229e+03, -1.54566279e+03,\n",
       "        5.18929473e+02,  2.81773686e+04,  5.77215507e+03,  1.38778523e+04,\n",
       "        3.09189273e+03,  3.38700609e+04,  2.83319351e+03,  9.08584320e+03,\n",
       "        8.36048993e+03,  1.39290284e+04,  8.66995492e+03, -1.93654606e+03,\n",
       "        8.25654949e+03,  1.29098824e+04,  1.13044174e+04,  5.21799508e+03,\n",
       "        2.71432552e+04,  1.72754107e+04,  1.87539145e+04,  2.59904679e+03,\n",
       "        5.21448066e+03,  1.10202292e+04,  6.74063993e+03,  8.36358552e+03,\n",
       "        5.51972017e+03,  1.38696959e+04,  1.97905675e+03,  7.27776402e+03,\n",
       "        3.72858031e+03,  1.80775221e+03,  9.46363785e+03,  6.17306739e+03,\n",
       "        1.27518791e+03,  1.17086651e+04,  8.67800594e+03,  3.90414847e+04,\n",
       "        1.32987988e+04,  3.03999327e+04,  2.40528114e+04,  1.35085019e+04,\n",
       "        7.82640246e+03,  3.90967829e+03,  6.64067848e+03,  8.25802860e+03,\n",
       "        1.78521114e+04,  5.34438787e+03,  1.67544577e+03,  4.62773156e+03,\n",
       "        1.12566698e+04,  4.67795440e+03,  9.66291012e+03,  1.05672155e+04,\n",
       "        1.03261244e+04,  1.14061802e+04,  3.44914881e+04,  1.01638954e+04,\n",
       "        1.07384123e+04,  2.80439578e+04,  1.94844567e+03,  7.30724509e+02,\n",
       "        1.00053660e+04,  4.44389836e+03,  6.84776026e+03,  3.10970548e+03,\n",
       "        7.47742369e+03,  2.23243285e+04,  1.20168949e+04,  5.63312355e+03,\n",
       "        4.04176548e+03,  1.75157164e+04,  7.42689589e+03,  9.83708491e+02,\n",
       "        1.15607780e+03,  8.03927078e+03,  8.74063739e+03,  6.97875713e+03,\n",
       "        9.17490453e+03,  8.90012030e+03,  1.11573628e+04,  3.45324185e+04,\n",
       "        5.53942026e+03,  3.38062224e+03,  1.06494587e+04,  6.10977061e+03,\n",
       "        8.19207642e+03,  9.30084743e+03,  9.80620501e+03,  1.03574953e+04,\n",
       "        6.05242940e+03,  9.56482604e+03,  2.70445252e+04,  2.24840195e+04,\n",
       "        1.07266015e+04,  9.08242181e+03, -5.78372949e+02,  2.42161764e+04,\n",
       "        5.92571817e+03,  2.14063746e+03,  5.58942620e+03,  2.78096972e+04,\n",
       "        1.65133989e+04,  3.83151743e+04,  1.63472854e+04,  1.44540000e+04,\n",
       "        3.48124196e+03,  2.49437182e+04,  1.06017738e+04,  1.40396205e+04,\n",
       "        1.36583053e+04,  3.71417047e+03,  9.79368487e+03,  3.82576835e+04,\n",
       "        2.52576632e+04,  4.37433726e+03,  1.40854661e+04,  3.13011673e+04,\n",
       "        6.57377513e+03,  2.78616455e+04,  6.74645819e+03,  1.18312835e+04,\n",
       "        8.65375604e+03,  1.22762400e+04,  3.83999714e+03,  1.25975792e+04,\n",
       "        1.35317226e+04,  4.34714140e+03,  1.26575699e+04,  1.68602860e+04,\n",
       "        2.51460441e+04,  1.34493802e+04,  2.74315557e+04,  2.62256221e+04,\n",
       "        8.62049806e+03,  1.18881090e+04,  3.56556854e+04,  1.16988802e+04,\n",
       "        9.56778902e+03,  1.18634263e+04,  1.08467215e+04,  8.10536173e+03,\n",
       "        5.49328413e+03,  1.24988410e+03,  2.70105074e+04,  1.21238758e+04,\n",
       "        1.38708660e+04, -1.32240768e+03,  7.52345680e+03,  5.04484041e+03,\n",
       "        1.33320483e+04,  1.03826031e+04,  8.24845206e+03,  3.10186875e+04,\n",
       "        9.29743837e+03,  2.79862047e+03,  1.17010687e+04,  1.16625205e+04,\n",
       "        6.88223028e+03,  1.42005004e+04,  1.00551193e+04,  1.17678728e+04,\n",
       "        1.23455573e+04,  5.45545783e+03,  2.98091963e+03,  4.02745087e+04,\n",
       "        1.34491718e+04,  1.51879006e+04,  9.21121382e+03,  5.36230363e+03,\n",
       "        9.89431310e+03,  4.73034018e+03,  9.21132535e+03,  1.38026309e+04,\n",
       "        3.37654405e+03,  3.62841283e+03,  9.12317085e+03,  4.53648409e+03,\n",
       "        5.81828268e+03,  9.22246698e+03,  5.75496507e+03,  2.57578863e+04,\n",
       "        4.31103432e+03,  5.43232313e+03,  5.79460125e+03,  9.28883211e+03,\n",
       "        4.82862883e+03,  1.49221796e+04,  1.67596555e+04,  2.59811329e+04,\n",
       "        3.58907915e+04,  1.82319128e+03,  3.61564685e+04,  3.38622361e+03,\n",
       "        1.59004664e+04,  6.98559609e+03,  6.31804976e+03,  2.95984405e+04,\n",
       "        1.37181023e+04,  1.11830220e+04,  8.14971352e+03,  2.63051191e+03,\n",
       "        1.62694649e+04,  3.01882321e+04, -4.19086091e+02,  9.02243725e+03,\n",
       "        9.71396026e+03,  8.94770214e+03,  1.41769134e+04,  5.56452420e+03,\n",
       "        4.68752007e+03,  1.28094796e+04,  2.58494560e+04,  1.73850408e+04,\n",
       "        2.91170018e+04,  1.60867554e+04,  8.59586574e+03,  1.09126713e+04,\n",
       "        1.51195539e+04,  1.17760316e+04,  1.15750351e+04,  2.40996190e+04,\n",
       "        3.26273154e+04,  9.54049015e+03,  1.15003736e+04,  2.67096426e+04,\n",
       "        3.52209020e+03,  6.39146746e+03,  5.80559822e+03,  1.16154079e+04,\n",
       "        3.82296166e+04,  3.29279804e+04,  2.64482081e+04,  1.44177876e+04,\n",
       "        3.55353547e+04,  3.94716930e+04,  2.70592467e+03,  2.60507025e+04,\n",
       "        5.76598759e+03,  3.64167986e+04,  5.54395920e+03,  1.15700463e+04,\n",
       "        2.36556303e+03,  3.47031546e+04,  1.55564850e+04,  7.59576781e+03,\n",
       "        1.27086383e+04,  5.10682593e+03,  1.12260502e+04,  2.89255869e+04,\n",
       "        8.16509364e+03,  2.47567832e+04,  1.15124920e+04, -5.89159192e+02,\n",
       "        3.26255814e+04,  1.20420026e+04,  6.82234492e+03,  1.08248329e+04,\n",
       "        2.78070650e+04,  1.08789634e+04, -1.28497702e+03,  3.91893284e+03,\n",
       "        8.49467520e+03,  3.81973945e+03,  2.79101934e+03,  1.19609776e+04,\n",
       "        8.11504364e+03,  3.29948752e+04,  1.34539045e+04,  3.39140613e+03,\n",
       "        5.99936598e+03,  3.11434098e+04,  1.09196010e+04,  1.68919735e+03,\n",
       "        3.64652286e+04,  9.70450114e+03,  3.68993880e+04,  6.88109805e+03,\n",
       "        1.45052791e+04,  7.30427372e+03,  2.81929990e+04,  4.45245420e+03,\n",
       "        1.72639445e+04,  1.19638291e+04,  8.98975156e+03,  3.59216673e+04,\n",
       "        1.37156550e+04,  1.85268066e+04,  1.61281023e+04,  3.79404225e+04,\n",
       "        1.22097326e+04,  3.07012389e+04,  8.95233558e+03,  4.07633851e+03,\n",
       "        9.24569236e+03,  1.24654835e+04,  1.22865802e+04,  9.24863832e+03,\n",
       "        1.53041555e+04,  1.55433138e+02,  6.84821485e+03,  1.13694102e+04,\n",
       "        4.26160537e+03,  1.36086718e+04,  3.22131944e+04,  1.07346502e+04,\n",
       "        2.42330383e+04,  2.61915982e+04,  1.44064352e+04,  1.43959850e+04,\n",
       "        1.45318120e+04,  6.68672011e+03,  3.09514264e+04,  1.53499445e+04,\n",
       "        2.98213353e+04,  6.07488410e+03,  1.80071955e+03,  2.93081227e+04,\n",
       "        8.07714752e+03,  3.17668259e+04,  3.31780601e+04,  3.25155848e+04,\n",
       "        2.97629470e+03,  9.07881905e+03,  1.01856871e+04,  9.90815301e+03,\n",
       "        3.11270137e+04,  2.96142790e+04,  7.52621758e+03,  3.03378588e+04,\n",
       "        1.14182420e+04,  8.34443217e+03,  4.67031370e+03,  2.96298064e+04,\n",
       "        1.15730341e+04,  1.57341592e+04,  1.66587197e+04,  7.38417499e+03,\n",
       "        3.73992415e+03,  5.62838474e+03,  3.12118953e+04,  5.84811691e+03,\n",
       "        6.43572857e+03,  1.14927919e+04,  1.47133429e+04,  7.02986807e+03,\n",
       "        1.05098549e+04,  1.59003757e+04,  1.12945356e+04,  3.89800131e+03,\n",
       "        5.12430648e+03,  2.81037317e+04,  3.48054331e+04,  1.03280226e+04,\n",
       "        9.90351722e+03,  7.48196263e+03,  1.06432680e+04,  7.31518000e+03,\n",
       "        1.74415218e+04,  2.94150091e+04,  1.48002072e+04,  1.23504431e+04,\n",
       "        1.30854273e+03,  1.50861023e+04,  2.21935392e+03,  9.15530510e+03,\n",
       "        1.35914105e+04,  1.46293719e+04,  7.47631083e+03,  1.39296890e+04,\n",
       "        6.23703094e+03,  1.14675935e+04,  9.96802986e+03,  5.01156607e+03,\n",
       "        9.46430317e+03,  1.99183805e+03,  1.45833326e+04,  3.39018792e+03,\n",
       "        2.23622193e+03,  7.29512453e+03,  1.59473683e+04,  8.70397271e+03,\n",
       "        1.17012709e+04,  3.09762169e+04,  6.14596838e+03,  1.82832337e+03,\n",
       "        1.61644535e+04,  7.13002087e+03,  1.22019463e+04,  1.15240659e+04,\n",
       "        1.12075683e+04,  8.77420059e+03,  1.21320321e+04,  1.69187339e+04,\n",
       "        7.77629115e+03,  1.17017208e+04,  3.61476662e+04,  5.24375964e+03,\n",
       "        7.45201452e+03,  4.01255450e+04,  1.01802546e+04,  4.79538553e+03,\n",
       "        1.21796078e+04,  3.90900680e+03,  3.88708454e+04,  3.29538394e+04,\n",
       "        1.47554140e+04, -1.18898839e+03,  1.36220022e+04,  3.03418208e+04,\n",
       "        2.86230028e+04,  1.11347082e+04,  5.42891642e+03,  2.18192942e+03,\n",
       "        1.46961893e+04,  3.40572148e+03,  7.15863689e+03,  1.86534606e+03,\n",
       "        2.89933125e+04,  3.22264139e+04,  3.45314002e+04,  1.27064545e+04,\n",
       "        1.94037054e+04,  7.77003534e+03,  3.87632961e+04,  9.44061939e+03,\n",
       "        3.66736902e+03,  1.26661786e+04,  8.22268750e+03,  3.64051242e+04,\n",
       "        1.13865661e+04,  8.10632965e+03,  4.27656665e+03,  2.75085110e+03,\n",
       "        6.15061269e+03,  1.30324101e+04,  2.87403309e+04,  1.16487627e+04,\n",
       "        6.27312334e+03,  2.71347690e+04,  3.00003378e+04,  1.12877307e+04,\n",
       "        2.36215632e+03,  1.28506577e+04,  3.43265386e+04,  3.36417286e+04,\n",
       "        2.89653448e+04,  2.66101527e+03,  1.22992585e+04,  7.88384287e+03,\n",
       "        2.13834596e+03,  3.71008992e+03,  8.58958438e+03,  9.65408723e+03,\n",
       "        9.47464569e+03,  6.93681072e+03,  3.28055778e+03,  9.88921039e+03,\n",
       "        1.48316893e+04,  9.56371083e+03,  5.33415072e+03,  1.63287950e+04,\n",
       "        8.03060958e+03, -2.20338464e+03,  1.23664838e+04,  1.34682198e+04,\n",
       "        3.29084778e+04,  2.64815629e+04,  1.17999211e+04,  8.39232158e+03,\n",
       "        1.37758981e+04,  2.87502274e+04,  1.77048375e+04,  6.38419094e+03,\n",
       "        1.24965847e+04,  9.21234371e+03,  2.90836641e+04,  8.30492454e+03,\n",
       "        3.14632173e+04,  1.35833594e+04,  4.77800183e+03,  1.75797768e+04,\n",
       "        2.79025929e+04, -1.15483630e+02,  3.36522597e+02,  3.24312476e+03,\n",
       "        6.45707042e+03,  2.68212616e+04,  4.48637514e+03,  1.02078035e+04,\n",
       "        7.86601545e+03,  1.20909902e+04,  2.62576510e+04,  1.58750464e+04,\n",
       "        3.50321833e+04,  3.16000348e+04,  7.04248742e+03,  3.38187314e+04,\n",
       "        1.46099600e+04,  7.36910834e+03,  7.69119884e+03,  1.02605447e+04,\n",
       "        9.41003385e+03,  1.24913449e+04,  9.19394165e+03,  1.21688107e+04,\n",
       "        7.12569265e+03,  3.84340385e+03,  3.03619335e+04,  3.37929631e+03,\n",
       "        8.60114512e+03,  6.94981100e+03,  3.26272800e+03,  1.27206621e+04,\n",
       "        5.27074987e+02,  6.51677279e+02,  1.25965609e+04,  1.64420954e+04,\n",
       "        8.26057275e+03,  1.00382686e+04,  3.54350880e+04,  3.50798534e+04,\n",
       "        1.34275885e+04,  6.22535632e+03,  1.91245247e+03,  1.27856843e+04,\n",
       "        3.26346066e+04,  1.35833486e+04,  3.49441403e+04,  1.42130229e+04,\n",
       "        1.00709628e+04,  1.25471653e+04,  4.64525403e+03,  5.25806647e+03,\n",
       "        7.17173166e+03,  1.64701453e+04,  1.22715159e+04,  9.09914254e+03,\n",
       "        3.37835435e+04,  2.79918423e+03,  2.40800157e+04,  3.79708375e+04,\n",
       "        1.25915233e+04,  1.08495621e+04,  1.70379347e+04,  3.43409927e+04,\n",
       "        3.45863530e+04,  8.40310783e+03,  1.01260016e+04,  1.23585801e+04,\n",
       "        3.38464825e+04,  1.49073213e+04,  4.06453392e+03,  6.51466662e+03,\n",
       "        6.70796276e+03,  1.64398673e+04,  3.50734899e+04,  6.53238868e+03,\n",
       "        1.24021659e+04,  3.57664478e+04,  9.45162487e+03,  4.23221485e+03,\n",
       "        9.86434795e+03,  4.74904719e+03,  6.79648116e+03,  1.31020766e+04,\n",
       "        4.15461360e+03,  1.26943168e+04,  1.57865535e+04,  3.03414677e+04,\n",
       "        1.14096776e+04,  3.33971255e+04,  1.45398607e+04,  8.41996732e+03,\n",
       "        3.21738004e+04,  2.99014768e+04,  1.21386519e+04,  3.09232564e+04,\n",
       "        1.04660692e+04,  3.24543330e+03,  1.05008589e+04,  1.18733329e+04,\n",
       "        1.10094259e+04,  3.02881998e+04,  1.08408675e+04,  5.36815999e+03,\n",
       "        1.01955713e+04,  1.93877228e+03,  3.63547162e+04,  7.11327525e+03,\n",
       "        3.69335047e+03,  2.95083275e+03,  7.30988976e+03,  2.86961813e+04,\n",
       "        2.63705077e+04,  1.38254410e+04,  1.11249434e+03,  2.92474752e+04,\n",
       "       -1.48918179e+03,  3.72451915e+03,  2.55948350e+04,  1.17705306e+04,\n",
       "        8.58720343e+01,  6.30526375e+03,  8.86501647e+02,  1.48575593e+04,\n",
       "        1.45167283e+04,  1.07966125e+04,  3.57261183e+03,  2.92648838e+04,\n",
       "        3.21357070e+04,  7.05679425e+03,  1.81927031e+04,  9.46089411e+03,\n",
       "        1.31825525e+04,  1.01932774e+04,  1.03238391e+04,  2.94700956e+03,\n",
       "        1.10748120e+04,  9.28882359e+03,  5.97226697e+03,  2.65764340e+04,\n",
       "        1.05511554e+04,  5.85977921e+03,  3.20791315e+04,  1.32907478e+04,\n",
       "        1.92380248e+03,  1.50848926e+04,  1.07182429e+04,  7.31680854e+03,\n",
       "        2.16354440e+03,  5.59040029e+03,  2.58792988e+04,  3.96515674e+02,\n",
       "       -8.48335023e+00,  3.14564922e+04,  8.15599930e+02,  1.38086868e+04,\n",
       "        6.49837089e+03,  9.68954221e+03,  3.65104910e+04,  6.94415215e+02,\n",
       "        4.00365280e+04,  1.17677783e+04,  1.52310427e+04,  3.33759967e+04,\n",
       "        1.07195689e+04,  4.73528093e+03,  3.36783859e+03,  3.09900885e+04,\n",
       "        1.45195836e+04,  3.94974116e+03,  2.68576383e+03,  1.41613799e+04,\n",
       "        2.62059306e+04,  3.08012949e+04,  7.17891161e+03,  6.35699743e+03,\n",
       "        1.31917985e+04,  1.31455632e+04,  1.29909981e+04,  1.16495457e+04,\n",
       "        3.66227815e+04,  1.00014017e+04,  1.28943574e+04,  4.97406109e+03,\n",
       "        1.05280547e+04,  5.22593838e+03,  7.53038410e+03,  2.73418672e+04,\n",
       "        5.03053358e+03,  1.32724743e+04,  1.47031057e+04,  7.42739836e+02,\n",
       "        2.28520378e+04,  3.71966646e+03,  1.13010130e+04,  6.08039097e+03,\n",
       "        4.45820519e+03,  2.19417016e+03])"
      ]
     },
     "execution_count": 17,
     "metadata": {},
     "output_type": "execute_result"
    }
   ],
   "source": [
    "y_pred_train"
   ]
  },
  {
   "cell_type": "code",
   "execution_count": 27,
   "id": "f10aac45-3511-4ce9-8526-f580e3a35a70",
   "metadata": {
    "scrolled": true
   },
   "outputs": [
    {
     "data": {
      "text/plain": [
       "Text(0, 0.5, 'Predicted Charges')"
      ]
     },
     "execution_count": 27,
     "metadata": {},
     "output_type": "execute_result"
    },
    {
     "data": {
      "image/png": "[encoded data removed]",
      "text/plain": [
       "<Figure size 640x480 with 1 Axes>"
      ]
     },
     "metadata": {},
     "output_type": "display_data"
    }
   ],
   "source": [
    "import matplotlib.pyplot as plt\n",
    "plt.scatter(y_train, y_pred_train)\n",
    "plt.xlabel(\"Actual Charges\")\n",
    "plt.ylabel(\"Predicted Charges\")\n",
    "\n"
   ]
  },
  {
   "cell_type": "markdown",
   "id": "4101289f-fbfe-4479-985e-49f491deaa8e",
   "metadata": {},
   "source": [
    "**R2 checking is very important, if the R2 is near to 0 then its a bad model, the more it closer to \n",
    "1, the more better model it is**"
   ]
  },
  {
   "cell_type": "code",
   "execution_count": 19,
   "id": "3d0e83f0-64b8-448b-b2bb-f106c313b810",
   "metadata": {},
   "outputs": [],
   "source": [
    "from sklearn.metrics import r2_score"
   ]
  },
  {
   "cell_type": "code",
   "execution_count": 20,
   "id": "06efabde-bdc0-464a-82d2-94677356ed57",
   "metadata": {},
   "outputs": [
    {
     "data": {
      "text/plain": [
       "0.7218505416822587"
      ]
     },
     "execution_count": 20,
     "metadata": {},
     "output_type": "execute_result"
    }
   ],
   "source": [
    "r2_score(y_train, y_pred_train)"
   ]
  },
  {
   "cell_type": "code",
   "execution_count": 21,
   "id": "9870a39c-73af-464d-9442-1562d7c2d8b4",
   "metadata": {},
   "outputs": [],
   "source": [
    "y_pred_test = lr.predict(x_test)"
   ]
  },
  {
   "cell_type": "code",
   "execution_count": 22,
   "id": "626c0a76-584d-4b88-8a70-ffb9e538d5e2",
   "metadata": {},
   "outputs": [
    {
     "data": {
      "image/png": "[encoded data removed]",
      "text/plain": [
       "<Figure size 640x480 with 1 Axes>"
      ]
     },
     "metadata": {},
     "output_type": "display_data"
    }
   ],
   "source": [
    "import matplotlib.pyplot as plt\n",
    "plt.scatter(y_test, y_pred_test)\n",
    "plt.xlabel(\"Actual Charges\")\n",
    "plt.ylabel(\"Predicted Charges\")\n",
    "plt.show()\n"
   ]
  },
  {
   "cell_type": "code",
   "execution_count": 23,
   "id": "471ea3cf-4a13-43ee-a6a9-29a9ba1fca09",
   "metadata": {},
   "outputs": [
    {
     "data": {
      "text/plain": [
       "0.787751932199499"
      ]
     },
     "execution_count": 23,
     "metadata": {},
     "output_type": "execute_result"
    }
   ],
   "source": [
    "r2_score(y_test, y_pred_test)"
   ]
  },
  {
   "cell_type": "markdown",
   "id": "594c49c5-f696-4afb-9b92-651abdb91016",
   "metadata": {},
   "source": [
    "**We can see with the test model R2 is better than train model, means its a good model to run**"
   ]
  },
  {
   "cell_type": "code",
   "execution_count": null,
   "id": "700d4040-f29d-483b-8915-f839e0028f37",
   "metadata": {},
   "outputs": [],
   "source": []
  }
 ],
 "metadata": {
  "kernelspec": {
   "display_name": "Python 3 (ipykernel)",
   "language": "python",
   "name": "python3"
  },
  "language_info": {
   "codemirror_mode": {
    "name": "ipython",
    "version": 3
   },
   "file_extension": ".py",
   "mimetype": "text/x-python",
   "name": "python",
   "nbconvert_exporter": "python",
   "pygments_lexer": "ipython3",
   "version": "3.11.5"
  }
 },
 "nbformat": 4,
 "nbformat_minor": 5
}
